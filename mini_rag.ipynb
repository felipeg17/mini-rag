{
 "cells": [
  {
   "cell_type": "markdown",
   "metadata": {},
   "source": [
    "### Mini RAG "
   ]
  },
  {
   "cell_type": "markdown",
   "metadata": {},
   "source": [
    "General imports"
   ]
  },
  {
   "cell_type": "code",
   "execution_count": 2,
   "metadata": {},
   "outputs": [],
   "source": [
    "import os\n",
    "import pdb\n",
    "import dotenv\n",
    "import csv"
   ]
  },
  {
   "cell_type": "code",
   "execution_count": 3,
   "metadata": {},
   "outputs": [],
   "source": [
    "from pathlib import Path\n",
    "from uuid import uuid4"
   ]
  },
  {
   "cell_type": "code",
   "execution_count": 4,
   "metadata": {},
   "outputs": [],
   "source": [
    "# Langchain controls\n",
    "from langchain.globals import set_debug"
   ]
  },
  {
   "cell_type": "markdown",
   "metadata": {},
   "source": [
    "Langchain imports"
   ]
  },
  {
   "cell_type": "code",
   "execution_count": 5,
   "metadata": {},
   "outputs": [],
   "source": [
    "# llm model\n",
    "from langchain_openai import ChatOpenAI\n",
    "\n",
    "# Vector database\n",
    "from langchain_core.vectorstores import InMemoryVectorStore\n",
    "\n",
    "# Embeddings\n",
    "from langchain_openai import OpenAIEmbeddings\n",
    "\n",
    "# Prompts and messages\n",
    "from langchain.prompts import (\n",
    "  PromptTemplate, ChatPromptTemplate\n",
    ")\n",
    "\n",
    "# Documents processing\n",
    "import fitz\n",
    "from langchain.schema import Document\n",
    "\n",
    "# Splitters\n",
    "from langchain.text_splitter import RecursiveCharacterTextSplitter\n",
    "\n",
    "# Parsers and runnables\n",
    "from langchain_core.output_parsers import JsonOutputParser, StrOutputParser\n",
    "from langchain_core.runnables import RunnablePassthrough, RunnableParallel\n",
    "\n",
    "# Chains\n",
    "from langchain.chains.retrieval_qa.base import RetrievalQA"
   ]
  },
  {
   "cell_type": "code",
   "execution_count": 6,
   "metadata": {},
   "outputs": [
    {
     "data": {
      "text/plain": [
       "True"
      ]
     },
     "execution_count": 6,
     "metadata": {},
     "output_type": "execute_result"
    }
   ],
   "source": [
    "# Load environment variables\n",
    "dotenv.load_dotenv()"
   ]
  },
  {
   "cell_type": "code",
   "execution_count": 7,
   "metadata": {},
   "outputs": [],
   "source": [
    "# Langchain debug mode\n",
    "set_debug(False)"
   ]
  },
  {
   "cell_type": "code",
   "execution_count": 8,
   "metadata": {},
   "outputs": [],
   "source": [
    "# Load LLM model as chat model\n",
    "model_params = {\n",
    "  \"model_name\": \"gpt-4o-mini\",\n",
    "  \"api_version\": \"2023-05-15\",\n",
    "  \"temperature\": 0.05, \n",
    "  \"max_tokens\": 4000,\n",
    "  \"top_p\": 0.95,\n",
    "}\n",
    "    \n",
    "llm = ChatOpenAI(\n",
    "  model=model_params[\"model_name\"],\n",
    "  api_key=os.environ.get('OPENAI_API_KEY'),\n",
    "  temperature=model_params[\"temperature\"],\n",
    "  max_tokens=model_params[\"max_tokens\"],\n",
    "  top_p=model_params[\"top_p\"]\n",
    ")"
   ]
  },
  {
   "cell_type": "code",
   "execution_count": 9,
   "metadata": {},
   "outputs": [],
   "source": [
    "# Load embeddings model\n",
    "embeddings_model: str=\"text-embedding-ada-002\"\n",
    "embeddings_service = OpenAIEmbeddings(\n",
    "  model=embeddings_model,\n",
    "  api_key=os.environ.get('OPENAI_API_KEY')\n",
    ")"
   ]
  },
  {
   "cell_type": "code",
   "execution_count": 10,
   "metadata": {},
   "outputs": [],
   "source": [
    "# Create a vector database\n",
    "#* There are more robust alternatives to this, such as Pinecone, Chroma\n",
    "vdb = InMemoryVectorStore(embeddings_service)"
   ]
  },
  {
   "cell_type": "markdown",
   "metadata": {},
   "source": [
    "#### Document source: CSV file"
   ]
  },
  {
   "cell_type": "code",
   "execution_count": 11,
   "metadata": {},
   "outputs": [
    {
     "data": {
      "text/plain": [
       "Document(id='433a43ec-69d3-4baf-91ae-0cd48d48d782', metadata={'source': 'mi-tax-table.csv'}, page_content='ST LOUIS COUNTY TAX 1% 66.600-66.630')"
      ]
     },
     "execution_count": 11,
     "metadata": {},
     "output_type": "execute_result"
    }
   ],
   "source": [
    "# Load a .csv file\n",
    "file_folder = \"documents\"\n",
    "file_name = \"mi-tax-table.csv\"\n",
    "file_path = os.path.join(file_folder, file_name)\n",
    "\n",
    "documents: list = []\n",
    "with open(file_path, 'r', encoding='utf-8') as f:\n",
    "  reader = csv.reader(f)\n",
    "  header = next(reader)\n",
    "  rows = [row for row in reader]\n",
    "  \n",
    "# Crear documentos para insertar en la vdb\n",
    "for row in rows:\n",
    "  doc = Document(\n",
    "    id=str(uuid4()),\n",
    "    page_content=\" \".join(row),\n",
    "    metadata={\n",
    "      \"source\": file_name\n",
    "    }\n",
    "  )\n",
    "  documents.append(doc)\n",
    "  \n",
    "documents[0]"
   ]
  },
  {
   "cell_type": "code",
   "execution_count": null,
   "metadata": {},
   "outputs": [],
   "source": [
    "# Add the documents to the vector database\n",
    "vdb.add_documents(documents)"
   ]
  },
  {
   "cell_type": "code",
   "execution_count": 13,
   "metadata": {},
   "outputs": [
    {
     "name": "stdout",
     "output_type": "stream",
     "text": [
      "Answer::: ST LOUIS COUNTY TAX 1% 66.600-66.630\n",
      "Score::: 0.9024074211674541\n",
      "********************\n",
      "Answer::: ST LOUIS COUNTY ADDITIONAL SALES TAX 275/1000% 67.581\n",
      "Score::: 0.877963188931247\n",
      "********************\n"
     ]
    }
   ],
   "source": [
    "# Search the vector database by similarity\n",
    "query = \"¿What is st louis county tax rate?\"\n",
    "results = vdb.similarity_search_with_score(\n",
    "  query=query,\n",
    "  k=2\n",
    ")\n",
    "for result in results:\n",
    "  print(\"Answer:::\", result[0].page_content)\n",
    "  print(\"Score:::\", result[1])\n",
    "  print(\"*\" * 20)"
   ]
  },
  {
   "cell_type": "code",
   "execution_count": null,
   "metadata": {},
   "outputs": [],
   "source": [
    "# qa chain\n",
    "# Retriever\n",
    "retriever = vdb.as_retriever(\n",
    "  search_type=\"similarity\",\n",
    "  search_kwargs={\n",
    "    \"k\": 3\n",
    "  }\n",
    ")\n",
    "\n",
    "# Prompt for the qa chain\n",
    "prompt_text = \"\"\"\n",
    "You are an assistant specialized in answering questions about documents.\n",
    "Your task is to use the information provided in the context to answer\n",
    "the question.\n",
    "Instructions: \n",
    "  1. Answer the following question based on the information\n",
    "  2. Do not include unsolicited information, do not make up data, do not \n",
    "  include recommendations outside of the provided context.\n",
    "\n",
    "Context:\n",
    "{context}\n",
    "Question:\n",
    "{question}\n",
    "\"\"\"\n",
    "\n",
    "qa_prompt = PromptTemplate.from_template(template=prompt_text)\n",
    "\n",
    "qa_chain = RetrievalQA.from_chain_type(\n",
    "  llm = llm,\n",
    "  retriever=retriever,\n",
    "  return_source_documents=True,\n",
    "  chain_type=\"stuff\",\n",
    "  chain_type_kwargs={\"prompt\": qa_prompt}\n",
    ")\n",
    "\n"
   ]
  },
  {
   "cell_type": "code",
   "execution_count": 21,
   "metadata": {},
   "outputs": [
    {
     "name": "stdout",
     "output_type": "stream",
     "text": [
      "Query: ¿What is county tourism sales tax rate in Missouri?\n",
      "Answer: The county tourism sales tax rate in Missouri can be up to 7/8%.\n",
      "Source documents:\n",
      "COUNTY TOURISM SALES TAX UP TO 7/8% 67.671-67.685\n",
      "ST LOUIS COUNTY ZOOGICAL SALES TAX 1/8, 1/4, 3/8, 1/2% (Cannot exceed 1/8% beginning 8/28/17) (Cannot be in excess of 1% combined) 67.547\n",
      "ST LOUIS COUNTY ADDITIONAL SALES TAX 275/1000% 67.581\n"
     ]
    }
   ],
   "source": [
    "# QA test\n",
    "query = \"¿What is county tourism sales tax rate in Missouri?\"\n",
    "answer = qa_chain.invoke(\n",
    "  {\"query\": query}\n",
    ")\n",
    "print(\"Query:\", answer[\"query\"])\n",
    "print(\"Answer:\", answer[\"result\"])\n",
    "print(\"Source documents:\")\n",
    "for doc in answer[\"source_documents\"]:\n",
    "  print(doc.page_content)"
   ]
  },
  {
   "cell_type": "code",
   "execution_count": 22,
   "metadata": {},
   "outputs": [
    {
     "name": "stdout",
     "output_type": "stream",
     "text": [
      "In Missouri, the county tourism sales tax rate can vary by county, as each county has the authority to impose its own sales tax for tourism-related purposes. Generally, the rates can range from 1% to 5%, depending on the specific county's regulations and decisions. To find the exact tourism sales tax rate for a particular county in Missouri, it's best to check with the local county government or their official website for the most accurate and up-to-date information.\n"
     ]
    }
   ],
   "source": [
    "# Straightforward LLM call\n",
    "llm_response = llm.invoke(query)\n",
    "print(llm_response.content)"
   ]
  },
  {
   "cell_type": "markdown",
   "metadata": {},
   "source": [
    "#### Document source: PDF document"
   ]
  },
  {
   "cell_type": "code",
   "execution_count": null,
   "metadata": {},
   "outputs": [],
   "source": [
    "# Load PDF document\n",
    "file_folder = \"documents\"\n",
    "file_name = \"wa-taxes.pdf\"\n",
    "file_path = os.path.join(file_folder, file_name)\n",
    "\n",
    "with open(file_path, \"rb\") as f:\n",
    "  document_bytes = f.read()\n",
    "  \n",
    "# Open the PDF document\n",
    "document_pdf = fitz.open(\n",
    "  stream=document_bytes,\n",
    "  filetype=\"pdf\"\n",
    ")\n",
    "\n",
    "# Split the PDF document into chunks - to insert into the vdb\n",
    "splitting_method=\"recursive\"\n",
    "splitter_params = {\n",
    "  \"chunk_size\": 800,\n",
    "  \"chunk_overlap\": 50\n",
    "}\n",
    "text_splitter = RecursiveCharacterTextSplitter(\n",
    "  chunk_size=splitter_params[\"chunk_size\"],\n",
    "  chunk_overlap=splitter_params[\"chunk_overlap\"]\n",
    ")\n",
    "\n",
    "# Create the langchain list of documents\n",
    "document_with_metadata: list = []\n",
    "for page_number in range(document_pdf.page_count):\n",
    "  page = document_pdf.load_page(page_number)\n",
    "  page_text = page.get_text(\"text\")\n",
    "  document_with_metadata.append(\n",
    "    Document(\n",
    "      id=str(uuid4()),\n",
    "      page_content=page_text,\n",
    "      metadata={\n",
    "        \"titulo\": file_name,\n",
    "        \"pagina\": page_number \n",
    "      }\n",
    "    )\n",
    "  )\n",
    "  \n",
    "document_splitted = text_splitter.split_documents(\n",
    "  documents=document_with_metadata\n",
    ")\n",
    "\n",
    "# Ingest the documents into the vector database\n",
    "vdb.add_documents(documents=document_splitted)"
   ]
  },
  {
   "cell_type": "code",
   "execution_count": 18,
   "metadata": {},
   "outputs": [
    {
     "name": "stdout",
     "output_type": "stream",
     "text": [
      "Answer::: Local Sales & Use Tax Components \n",
      " \n",
      "33 \n",
      " \n",
      "Component Name: \n",
      " \n",
      "Zoo & Aquarium \n",
      " \n",
      "Revised Code of WA (RCW): 82.14.400 \n",
      "Date Legislation Enacted: \n",
      "1999 \n",
      "Date Last Modified: \n",
      " \n",
      "2020 \n",
      "Statutory Expiration Date: \n",
      "None \n",
      "Imposed by: \n",
      " \n",
      " \n",
      "Voter Approval \n",
      " \n",
      "Description \n",
      "• \n",
      "Counties may levy a sales and use tax to fund costs associated with a zoo, aquarium, or wild life preservation, \n",
      "and parks \n",
      " \n",
      "Taxing Authorities  \n",
      "• \n",
      "A county with a national park and a population of more than five hundred thousand and less than 1.5 million \n",
      "by joint request with metropolitan park district and a city with a population of more than one hundred fifty \n",
      "thousand \n",
      " \n",
      "Tax Base \n",
      "• \n",
      "This tax applies to retail sales taxable activity under chapter 82.08 and 82.12 RCW \n",
      " \n",
      "Tax Rate \n",
      " \n",
      "• \n",
      "Up to 0.001 \n",
      " \n",
      "Fiscal Year Cap \n",
      "•\n",
      "Score::: 0.8863987156271392\n",
      "********************\n",
      "Answer::: Local Sales & Use Tax Components \n",
      " \n",
      "34 \n",
      " \n",
      "Line Code(s) \n",
      " \n",
      "• \n",
      "Sales Tax = 95  \n",
      "• \n",
      "Use Tax = 96 \n",
      " \n",
      "Use of funds \n",
      "• \n",
      "Costs associated with financing, design, acquisition, construction, equipping, operating, maintaining, \n",
      "remodeling, repairing, reequipping, or improvement of zoo, aquarium, and wildlife preservation and display \n",
      "facilities that are currently accredited by the American zoo and aquarium association  \n",
      "• \n",
      "Costs related to national parks located within the county (if so allocated in the joint request). \n",
      " \n",
      "Other Rules \n",
      "• \n",
      "By December 31, 2005, the county or any city in the county with a population greater than 80,000 must \n",
      "provide at least one dollar match for every two received from this tax \n",
      " \n",
      "Other Information \n",
      "• \n",
      "As of October 1, 2012, Pierce County is the only qualifying county\n",
      "Score::: 0.8543413014552664\n",
      "********************\n"
     ]
    }
   ],
   "source": [
    "# semanctic search\n",
    "query = \"¿What are Tax rates for Zoo & Aquarium in WA?\"\n",
    "results = vdb.similarity_search_with_score(\n",
    "  query=query,\n",
    "  k=2\n",
    ")\n",
    "for result in results:\n",
    "  print(\"Answer:::\", result[0].page_content)\n",
    "  print(\"Score:::\", result[1])\n",
    "  print(\"*\" * 20)"
   ]
  },
  {
   "cell_type": "code",
   "execution_count": 19,
   "metadata": {},
   "outputs": [
    {
     "name": "stdout",
     "output_type": "stream",
     "text": [
      "Query: ¿What are Tax rates for Zoo & Aquarium in WA?\n",
      "Answer: The tax rate for Zoo & Aquarium in Washington is up to 0.001.\n",
      "Source documents:\n",
      "Local Sales & Use Tax Components \n",
      " \n",
      "33 \n",
      " \n",
      "Component Name: \n",
      " \n",
      "Zoo & Aquarium \n",
      " \n",
      "Revised Code of WA (RCW): 82.14.400 \n",
      "Date Legislation Enacted: \n",
      "1999 \n",
      "Date Last Modified: \n",
      " \n",
      "2020 \n",
      "Statutory Expiration Date: \n",
      "None \n",
      "Imposed by: \n",
      " \n",
      " \n",
      "Voter Approval \n",
      " \n",
      "Description \n",
      "• \n",
      "Counties may levy a sales and use tax to fund costs associated with a zoo, aquarium, or wild life preservation, \n",
      "and parks \n",
      " \n",
      "Taxing Authorities  \n",
      "• \n",
      "A county with a national park and a population of more than five hundred thousand and less than 1.5 million \n",
      "by joint request with metropolitan park district and a city with a population of more than one hundred fifty \n",
      "thousand \n",
      " \n",
      "Tax Base \n",
      "• \n",
      "This tax applies to retail sales taxable activity under chapter 82.08 and 82.12 RCW \n",
      " \n",
      "Tax Rate \n",
      " \n",
      "• \n",
      "Up to 0.001 \n",
      " \n",
      "Fiscal Year Cap \n",
      "•\n",
      "Local Sales & Use Tax Components \n",
      " \n",
      "34 \n",
      " \n",
      "Line Code(s) \n",
      " \n",
      "• \n",
      "Sales Tax = 95  \n",
      "• \n",
      "Use Tax = 96 \n",
      " \n",
      "Use of funds \n",
      "• \n",
      "Costs associated with financing, design, acquisition, construction, equipping, operating, maintaining, \n",
      "remodeling, repairing, reequipping, or improvement of zoo, aquarium, and wildlife preservation and display \n",
      "facilities that are currently accredited by the American zoo and aquarium association  \n",
      "• \n",
      "Costs related to national parks located within the county (if so allocated in the joint request). \n",
      " \n",
      "Other Rules \n",
      "• \n",
      "By December 31, 2005, the county or any city in the county with a population greater than 80,000 must \n",
      "provide at least one dollar match for every two received from this tax \n",
      " \n",
      "Other Information \n",
      "• \n",
      "As of October 1, 2012, Pierce County is the only qualifying county\n",
      "Tax Rate \n",
      " \n",
      "• \n",
      "Up to 0.001 \n",
      " \n",
      "Fiscal Year Cap \n",
      "• \n",
      "Not Applicable \n",
      " \n",
      "Administration Fee \n",
      " \n",
      "• \n",
      "There is no authority for DOR to impose an administration fee \n",
      " \n",
      "Distribution \n",
      "• \n",
      "If the joint request does not allocate any funds to the national parks within the county, 100% of the funds are to \n",
      "be distributed to the taxing authorities.  \n",
      "• \n",
      "If the joint request allocates funds to national parks in the county: \n",
      "o 50% goes to zoo and aquarium advisory authority \n",
      "o 50% goes to incorporated and unincorporated areas of the county on per capita basis for costs related \n",
      "to parks with a breakdown as follows: \n",
      "▪ \n",
      "To the metropolitan park district \n",
      "▪ \n",
      "To cities and towns not within a metropolitan park district \n",
      "▪\n"
     ]
    }
   ],
   "source": [
    "# qa chain\n",
    "answer = qa_chain.invoke(\n",
    "  {\"query\": query}\n",
    ")\n",
    "print(\"Query:\", answer[\"query\"])\n",
    "print(\"Answer:\", answer[\"result\"])\n",
    "print(\"Source documents:\")\n",
    "for doc in answer[\"source_documents\"]:\n",
    "  print(doc.page_content)"
   ]
  },
  {
   "cell_type": "code",
   "execution_count": 20,
   "metadata": {},
   "outputs": [
    {
     "name": "stdout",
     "output_type": "stream",
     "text": [
      "In Washington State, zoos and aquariums are generally subject to the state's sales tax, which is currently 6.5% at the state level. However, local jurisdictions may impose additional sales taxes, which can vary by location. This means that the total sales tax rate for admissions and related sales at zoos and aquariums can be higher depending on the specific city or county.\n",
      "\n",
      "Additionally, zoos and aquariums may also be subject to other taxes, such as the business and occupation (B&O) tax, which is based on gross receipts.\n",
      "\n",
      "For the most accurate and up-to-date information, it's best to consult the Washington State Department of Revenue or the specific zoo or aquarium in question, as they can provide details on applicable tax rates and any exemptions that may apply.\n"
     ]
    }
   ],
   "source": [
    "# Straightforward LLM call\n",
    "llm_response = llm.invoke(query)\n",
    "print(llm_response.content)"
   ]
  }
 ],
 "metadata": {
  "kernelspec": {
   "display_name": "v_mini_rag",
   "language": "python",
   "name": "python3"
  },
  "language_info": {
   "codemirror_mode": {
    "name": "ipython",
    "version": 3
   },
   "file_extension": ".py",
   "mimetype": "text/x-python",
   "name": "python",
   "nbconvert_exporter": "python",
   "pygments_lexer": "ipython3",
   "version": "3.10.14"
  }
 },
 "nbformat": 4,
 "nbformat_minor": 2
}
